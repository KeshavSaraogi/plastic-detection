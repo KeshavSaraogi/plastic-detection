{
 "cells": [
  {
   "cell_type": "code",
   "execution_count": null,
   "id": "008dd1e7-da1d-4425-87fd-57ce8c423535",
   "metadata": {},
   "outputs": [],
   "source": [
    "!pip install fiftyone"
   ]
  },
  {
   "cell_type": "code",
   "execution_count": null,
   "id": "f017b103-6501-4891-8d84-bff5e45ff6ba",
   "metadata": {},
   "outputs": [],
   "source": [
    "import fiftyone as fo\n",
    "dataset = fo.zoo.load_zoo_dataset(\n",
    "              \"open-images-v6\",\n",
    "              split=\"train\",\n",
    "              label_types=[\"detections\"],\n",
    "              classes=[\"Plastic bag\"],\n",
    "              max_samples=1000,\n",
    "          )\n"
   ]
  },
  {
   "cell_type": "code",
   "execution_count": null,
   "id": "8ba6ab07-6b04-43f2-bbb3-66f9d0ba0e06",
   "metadata": {},
   "outputs": [],
   "source": [
    "dataset = fo.zoo.load_zoo_dataset(\n",
    "              \"open-images-v6\",\n",
    "              split=\"validation\",\n",
    "              label_types=[\"detections\"],\n",
    "              classes=[\"Plastic bag\"],\n",
    "              max_samples=1000,\n",
    "          )\n",
    "print(dataset)"
   ]
  },
  {
   "cell_type": "code",
   "execution_count": null,
   "id": "4926355c-e4db-4487-9d69-6ebb18d47de5",
   "metadata": {},
   "outputs": [],
   "source": []
  }
 ],
 "metadata": {
  "kernelspec": {
   "display_name": "Python 3 (ipykernel)",
   "language": "python",
   "name": "python3"
  },
  "language_info": {
   "codemirror_mode": {
    "name": "ipython",
    "version": 3
   },
   "file_extension": ".py",
   "mimetype": "text/x-python",
   "name": "python",
   "nbconvert_exporter": "python",
   "pygments_lexer": "ipython3",
   "version": "3.11.7"
  }
 },
 "nbformat": 4,
 "nbformat_minor": 5
}
