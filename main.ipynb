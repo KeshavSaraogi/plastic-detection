{
 "cells": [
  {
   "cell_type": "code",
   "execution_count": 1,
   "id": "008dd1e7-da1d-4425-87fd-57ce8c423535",
   "metadata": {},
   "outputs": [
    {
     "name": "stdout",
     "output_type": "stream",
     "text": [
      "Requirement already satisfied: fiftyone in /opt/anaconda3/lib/python3.11/site-packages (0.23.8)\n",
      "Requirement already satisfied: aiofiles in /opt/anaconda3/lib/python3.11/site-packages (from fiftyone) (23.2.1)\n",
      "Requirement already satisfied: argcomplete in /opt/anaconda3/lib/python3.11/site-packages (from fiftyone) (3.3.0)\n",
      "Requirement already satisfied: beautifulsoup4 in /opt/anaconda3/lib/python3.11/site-packages (from fiftyone) (4.12.2)\n",
      "Requirement already satisfied: boto3 in /opt/anaconda3/lib/python3.11/site-packages (from fiftyone) (1.34.112)\n",
      "Requirement already satisfied: cachetools in /opt/anaconda3/lib/python3.11/site-packages (from fiftyone) (4.2.2)\n",
      "Requirement already satisfied: dacite<1.8.0,>=1.6.0 in /opt/anaconda3/lib/python3.11/site-packages (from fiftyone) (1.7.0)\n",
      "Requirement already satisfied: Deprecated in /opt/anaconda3/lib/python3.11/site-packages (from fiftyone) (1.2.14)\n",
      "Requirement already satisfied: ftfy in /opt/anaconda3/lib/python3.11/site-packages (from fiftyone) (6.2.0)\n",
      "Requirement already satisfied: humanize in /opt/anaconda3/lib/python3.11/site-packages (from fiftyone) (4.9.0)\n",
      "Requirement already satisfied: hypercorn>=0.13.2 in /opt/anaconda3/lib/python3.11/site-packages (from fiftyone) (0.16.0)\n",
      "Requirement already satisfied: Jinja2>=3 in /opt/anaconda3/lib/python3.11/site-packages (from fiftyone) (3.1.3)\n",
      "Requirement already satisfied: kaleido!=0.2.1.post1 in /opt/anaconda3/lib/python3.11/site-packages (from fiftyone) (0.2.1)\n",
      "Requirement already satisfied: matplotlib in /opt/anaconda3/lib/python3.11/site-packages (from fiftyone) (3.8.0)\n",
      "Requirement already satisfied: mongoengine==0.24.2 in /opt/anaconda3/lib/python3.11/site-packages (from fiftyone) (0.24.2)\n",
      "Requirement already satisfied: motor>=2.5 in /opt/anaconda3/lib/python3.11/site-packages (from fiftyone) (3.4.0)\n",
      "Requirement already satisfied: numpy in /opt/anaconda3/lib/python3.11/site-packages (from fiftyone) (1.26.4)\n",
      "Requirement already satisfied: packaging in /opt/anaconda3/lib/python3.11/site-packages (from fiftyone) (23.1)\n",
      "Requirement already satisfied: pandas in /opt/anaconda3/lib/python3.11/site-packages (from fiftyone) (2.1.4)\n",
      "Requirement already satisfied: Pillow>=6.2 in /opt/anaconda3/lib/python3.11/site-packages (from fiftyone) (10.2.0)\n",
      "Requirement already satisfied: plotly>=4.14 in /opt/anaconda3/lib/python3.11/site-packages (from fiftyone) (5.9.0)\n",
      "Requirement already satisfied: pprintpp in /opt/anaconda3/lib/python3.11/site-packages (from fiftyone) (0.4.0)\n",
      "Requirement already satisfied: psutil in /opt/anaconda3/lib/python3.11/site-packages (from fiftyone) (5.9.0)\n",
      "Requirement already satisfied: pymongo>=3.12 in /opt/anaconda3/lib/python3.11/site-packages (from fiftyone) (4.7.2)\n",
      "Requirement already satisfied: pytz in /opt/anaconda3/lib/python3.11/site-packages (from fiftyone) (2023.3.post1)\n",
      "Requirement already satisfied: PyYAML in /opt/anaconda3/lib/python3.11/site-packages (from fiftyone) (6.0.1)\n",
      "Requirement already satisfied: regex in /opt/anaconda3/lib/python3.11/site-packages (from fiftyone) (2023.10.3)\n",
      "Requirement already satisfied: retrying in /opt/anaconda3/lib/python3.11/site-packages (from fiftyone) (1.3.4)\n",
      "Requirement already satisfied: scikit-learn in /opt/anaconda3/lib/python3.11/site-packages (from fiftyone) (1.2.2)\n",
      "Requirement already satisfied: scikit-image in /opt/anaconda3/lib/python3.11/site-packages (from fiftyone) (0.22.0)\n",
      "Requirement already satisfied: scipy in /opt/anaconda3/lib/python3.11/site-packages (from fiftyone) (1.11.4)\n",
      "Requirement already satisfied: setuptools in /opt/anaconda3/lib/python3.11/site-packages (from fiftyone) (68.2.2)\n",
      "Requirement already satisfied: sseclient-py<2,>=1.7.2 in /opt/anaconda3/lib/python3.11/site-packages (from fiftyone) (1.8.0)\n",
      "Requirement already satisfied: sse-starlette<1,>=0.10.3 in /opt/anaconda3/lib/python3.11/site-packages (from fiftyone) (0.10.3)\n",
      "Requirement already satisfied: starlette>=0.24.0 in /opt/anaconda3/lib/python3.11/site-packages (from fiftyone) (0.37.2)\n",
      "Requirement already satisfied: strawberry-graphql==0.138.1 in /opt/anaconda3/lib/python3.11/site-packages (from fiftyone) (0.138.1)\n",
      "Requirement already satisfied: tabulate in /opt/anaconda3/lib/python3.11/site-packages (from fiftyone) (0.9.0)\n",
      "Requirement already satisfied: xmltodict in /opt/anaconda3/lib/python3.11/site-packages (from fiftyone) (0.13.0)\n",
      "Requirement already satisfied: universal-analytics-python3<2,>=1.0.1 in /opt/anaconda3/lib/python3.11/site-packages (from fiftyone) (1.1.1)\n",
      "Requirement already satisfied: fiftyone-brain<0.17,>=0.16.1 in /opt/anaconda3/lib/python3.11/site-packages (from fiftyone) (0.16.1)\n",
      "Requirement already satisfied: fiftyone-db<2.0,>=0.4 in /opt/anaconda3/lib/python3.11/site-packages (from fiftyone) (1.1.2)\n",
      "Requirement already satisfied: voxel51-eta<0.13,>=0.12.6 in /opt/anaconda3/lib/python3.11/site-packages (from fiftyone) (0.12.6)\n",
      "Requirement already satisfied: opencv-python-headless in /opt/anaconda3/lib/python3.11/site-packages (from fiftyone) (4.9.0.80)\n",
      "Requirement already satisfied: graphql-core<3.3.0,>=3.2.0 in /opt/anaconda3/lib/python3.11/site-packages (from strawberry-graphql==0.138.1->fiftyone) (3.2.3)\n",
      "Requirement already satisfied: python-dateutil<3.0.0,>=2.7.0 in /opt/anaconda3/lib/python3.11/site-packages (from strawberry-graphql==0.138.1->fiftyone) (2.8.2)\n",
      "Requirement already satisfied: typing_extensions<5.0.0,>=3.7.4 in /opt/anaconda3/lib/python3.11/site-packages (from strawberry-graphql==0.138.1->fiftyone) (4.9.0)\n",
      "Requirement already satisfied: h11 in /opt/anaconda3/lib/python3.11/site-packages (from hypercorn>=0.13.2->fiftyone) (0.14.0)\n",
      "Requirement already satisfied: h2>=3.1.0 in /opt/anaconda3/lib/python3.11/site-packages (from hypercorn>=0.13.2->fiftyone) (4.1.0)\n",
      "Requirement already satisfied: priority in /opt/anaconda3/lib/python3.11/site-packages (from hypercorn>=0.13.2->fiftyone) (2.0.0)\n",
      "Requirement already satisfied: wsproto>=0.14.0 in /opt/anaconda3/lib/python3.11/site-packages (from hypercorn>=0.13.2->fiftyone) (1.2.0)\n",
      "Requirement already satisfied: MarkupSafe>=2.0 in /opt/anaconda3/lib/python3.11/site-packages (from Jinja2>=3->fiftyone) (2.1.3)\n",
      "Requirement already satisfied: tenacity>=6.2.0 in /opt/anaconda3/lib/python3.11/site-packages (from plotly>=4.14->fiftyone) (8.2.2)\n",
      "Requirement already satisfied: dnspython<3.0.0,>=1.16.0 in /opt/anaconda3/lib/python3.11/site-packages (from pymongo>=3.12->fiftyone) (2.6.1)\n",
      "Requirement already satisfied: anyio<5,>=3.4.0 in /opt/anaconda3/lib/python3.11/site-packages (from starlette>=0.24.0->fiftyone) (4.2.0)\n",
      "Requirement already satisfied: httpx>=0.10.0 in /opt/anaconda3/lib/python3.11/site-packages (from universal-analytics-python3<2,>=1.0.1->fiftyone) (0.27.0)\n",
      "Requirement already satisfied: dill in /opt/anaconda3/lib/python3.11/site-packages (from voxel51-eta<0.13,>=0.12.6->fiftyone) (0.3.7)\n",
      "Requirement already satisfied: future in /opt/anaconda3/lib/python3.11/site-packages (from voxel51-eta<0.13,>=0.12.6->fiftyone) (0.18.3)\n",
      "Requirement already satisfied: glob2 in /opt/anaconda3/lib/python3.11/site-packages (from voxel51-eta<0.13,>=0.12.6->fiftyone) (0.7)\n",
      "Requirement already satisfied: jsonlines in /opt/anaconda3/lib/python3.11/site-packages (from voxel51-eta<0.13,>=0.12.6->fiftyone) (4.0.0)\n",
      "Requirement already satisfied: py7zr in /opt/anaconda3/lib/python3.11/site-packages (from voxel51-eta<0.13,>=0.12.6->fiftyone) (0.21.0)\n",
      "Requirement already satisfied: rarfile in /opt/anaconda3/lib/python3.11/site-packages (from voxel51-eta<0.13,>=0.12.6->fiftyone) (4.2)\n",
      "Requirement already satisfied: requests in /opt/anaconda3/lib/python3.11/site-packages (from voxel51-eta<0.13,>=0.12.6->fiftyone) (2.31.0)\n",
      "Requirement already satisfied: six in /opt/anaconda3/lib/python3.11/site-packages (from voxel51-eta<0.13,>=0.12.6->fiftyone) (1.16.0)\n",
      "Requirement already satisfied: sortedcontainers in /opt/anaconda3/lib/python3.11/site-packages (from voxel51-eta<0.13,>=0.12.6->fiftyone) (2.4.0)\n",
      "Requirement already satisfied: tzlocal in /opt/anaconda3/lib/python3.11/site-packages (from voxel51-eta<0.13,>=0.12.6->fiftyone) (2.1)\n",
      "Requirement already satisfied: urllib3 in /opt/anaconda3/lib/python3.11/site-packages (from voxel51-eta<0.13,>=0.12.6->fiftyone) (2.0.7)\n",
      "Requirement already satisfied: soupsieve>1.2 in /opt/anaconda3/lib/python3.11/site-packages (from beautifulsoup4->fiftyone) (2.5)\n",
      "Requirement already satisfied: botocore<1.35.0,>=1.34.112 in /opt/anaconda3/lib/python3.11/site-packages (from boto3->fiftyone) (1.34.112)\n",
      "Requirement already satisfied: jmespath<2.0.0,>=0.7.1 in /opt/anaconda3/lib/python3.11/site-packages (from boto3->fiftyone) (1.0.1)\n",
      "Requirement already satisfied: s3transfer<0.11.0,>=0.10.0 in /opt/anaconda3/lib/python3.11/site-packages (from boto3->fiftyone) (0.10.1)\n",
      "Requirement already satisfied: wrapt<2,>=1.10 in /opt/anaconda3/lib/python3.11/site-packages (from Deprecated->fiftyone) (1.14.1)\n",
      "Requirement already satisfied: wcwidth<0.3.0,>=0.2.12 in /opt/anaconda3/lib/python3.11/site-packages (from ftfy->fiftyone) (0.2.13)\n",
      "Requirement already satisfied: contourpy>=1.0.1 in /opt/anaconda3/lib/python3.11/site-packages (from matplotlib->fiftyone) (1.2.0)\n",
      "Requirement already satisfied: cycler>=0.10 in /opt/anaconda3/lib/python3.11/site-packages (from matplotlib->fiftyone) (0.11.0)\n",
      "Requirement already satisfied: fonttools>=4.22.0 in /opt/anaconda3/lib/python3.11/site-packages (from matplotlib->fiftyone) (4.25.0)\n",
      "Requirement already satisfied: kiwisolver>=1.0.1 in /opt/anaconda3/lib/python3.11/site-packages (from matplotlib->fiftyone) (1.4.4)\n",
      "Requirement already satisfied: pyparsing>=2.3.1 in /opt/anaconda3/lib/python3.11/site-packages (from matplotlib->fiftyone) (3.0.9)\n",
      "Requirement already satisfied: tzdata>=2022.1 in /opt/anaconda3/lib/python3.11/site-packages (from pandas->fiftyone) (2023.3)\n",
      "Requirement already satisfied: networkx>=2.8 in /opt/anaconda3/lib/python3.11/site-packages (from scikit-image->fiftyone) (3.1)\n",
      "Requirement already satisfied: imageio>=2.27 in /opt/anaconda3/lib/python3.11/site-packages (from scikit-image->fiftyone) (2.33.1)\n",
      "Requirement already satisfied: tifffile>=2022.8.12 in /opt/anaconda3/lib/python3.11/site-packages (from scikit-image->fiftyone) (2023.4.12)\n",
      "Requirement already satisfied: lazy_loader>=0.3 in /opt/anaconda3/lib/python3.11/site-packages (from scikit-image->fiftyone) (0.3)\n",
      "Requirement already satisfied: joblib>=1.1.1 in /opt/anaconda3/lib/python3.11/site-packages (from scikit-learn->fiftyone) (1.2.0)\n",
      "Requirement already satisfied: threadpoolctl>=2.0.0 in /opt/anaconda3/lib/python3.11/site-packages (from scikit-learn->fiftyone) (2.2.0)\n",
      "Requirement already satisfied: idna>=2.8 in /opt/anaconda3/lib/python3.11/site-packages (from anyio<5,>=3.4.0->starlette>=0.24.0->fiftyone) (3.4)\n",
      "Requirement already satisfied: sniffio>=1.1 in /opt/anaconda3/lib/python3.11/site-packages (from anyio<5,>=3.4.0->starlette>=0.24.0->fiftyone) (1.3.0)\n",
      "Requirement already satisfied: hyperframe<7,>=6.0 in /opt/anaconda3/lib/python3.11/site-packages (from h2>=3.1.0->hypercorn>=0.13.2->fiftyone) (6.0.1)\n",
      "Requirement already satisfied: hpack<5,>=4.0 in /opt/anaconda3/lib/python3.11/site-packages (from h2>=3.1.0->hypercorn>=0.13.2->fiftyone) (4.0.0)\n",
      "Requirement already satisfied: certifi in /opt/anaconda3/lib/python3.11/site-packages (from httpx>=0.10.0->universal-analytics-python3<2,>=1.0.1->fiftyone) (2024.2.2)\n",
      "Requirement already satisfied: httpcore==1.* in /opt/anaconda3/lib/python3.11/site-packages (from httpx>=0.10.0->universal-analytics-python3<2,>=1.0.1->fiftyone) (1.0.5)\n",
      "Requirement already satisfied: attrs>=19.2.0 in /opt/anaconda3/lib/python3.11/site-packages (from jsonlines->voxel51-eta<0.13,>=0.12.6->fiftyone) (23.1.0)\n",
      "Requirement already satisfied: texttable in /opt/anaconda3/lib/python3.11/site-packages (from py7zr->voxel51-eta<0.13,>=0.12.6->fiftyone) (1.7.0)\n",
      "Requirement already satisfied: pycryptodomex>=3.16.0 in /opt/anaconda3/lib/python3.11/site-packages (from py7zr->voxel51-eta<0.13,>=0.12.6->fiftyone) (3.20.0)\n",
      "Requirement already satisfied: pyzstd>=0.15.9 in /opt/anaconda3/lib/python3.11/site-packages (from py7zr->voxel51-eta<0.13,>=0.12.6->fiftyone) (0.16.0)\n",
      "Requirement already satisfied: pyppmd<1.2.0,>=1.1.0 in /opt/anaconda3/lib/python3.11/site-packages (from py7zr->voxel51-eta<0.13,>=0.12.6->fiftyone) (1.1.0)\n",
      "Requirement already satisfied: pybcj<1.1.0,>=1.0.0 in /opt/anaconda3/lib/python3.11/site-packages (from py7zr->voxel51-eta<0.13,>=0.12.6->fiftyone) (1.0.2)\n",
      "Requirement already satisfied: multivolumefile>=0.2.3 in /opt/anaconda3/lib/python3.11/site-packages (from py7zr->voxel51-eta<0.13,>=0.12.6->fiftyone) (0.2.3)\n",
      "Requirement already satisfied: inflate64<1.1.0,>=1.0.0 in /opt/anaconda3/lib/python3.11/site-packages (from py7zr->voxel51-eta<0.13,>=0.12.6->fiftyone) (1.0.0)\n",
      "Requirement already satisfied: brotli>=1.1.0 in /opt/anaconda3/lib/python3.11/site-packages (from py7zr->voxel51-eta<0.13,>=0.12.6->fiftyone) (1.1.0)\n",
      "Requirement already satisfied: charset-normalizer<4,>=2 in /opt/anaconda3/lib/python3.11/site-packages (from requests->voxel51-eta<0.13,>=0.12.6->fiftyone) (2.0.4)\n"
     ]
    }
   ],
   "source": [
    "!pip install fiftyone"
   ]
  },
  {
   "cell_type": "code",
   "execution_count": 7,
   "id": "f017b103-6501-4891-8d84-bff5e45ff6ba",
   "metadata": {},
   "outputs": [
    {
     "name": "stdout",
     "output_type": "stream",
     "text": [
      "Downloading split 'train' to '/Users/keshavsaraogi/fiftyone/open-images-v6/train' if necessary\n",
      "Downloading 'https://storage.googleapis.com/openimages/2018_04/train/train-images-boxable-with-rotation.csv' to '/Users/keshavsaraogi/fiftyone/open-images-v6/train/metadata/image_ids.csv'\n",
      " 100% |██████|    4.8Gb/4.8Gb [38.0s elapsed, 0s remaining, 137.0Mb/s]      \n",
      "Downloading 'https://storage.googleapis.com/openimages/v5/class-descriptions-boxable.csv' to '/Users/keshavsaraogi/fiftyone/open-images-v6/train/metadata/classes.csv'\n",
      "Downloading 'https://storage.googleapis.com/openimages/2018_04/bbox_labels_600_hierarchy.json' to '/var/folders/f_/mxzw7mdx4qg8bs9xn0wbblsw0000gn/T/tmp6cddx66o/metadata/hierarchy.json'\n",
      "Downloading 'https://storage.googleapis.com/openimages/v6/oidv6-train-annotations-bbox.csv' to '/Users/keshavsaraogi/fiftyone/open-images-v6/train/labels/detections.csv'\n",
      "Only found 517 (<1000) samples matching your requirements\n",
      "Downloading 517 images\n",
      " 100% |███████████████████| 517/517 [46.3s elapsed, 0s remaining, 14.3 files/s]      \n",
      "Dataset info written to '/Users/keshavsaraogi/fiftyone/open-images-v6/info.json'\n",
      "Loading 'open-images-v6' split 'train'\n",
      " 100% |█████████████████| 517/517 [795.6ms elapsed, 0s remaining, 649.8 samples/s]      \n",
      "Dataset 'open-images-v6-train-1000' created\n"
     ]
    }
   ],
   "source": [
    "import fiftyone as fo\n",
    "dataset = fo.zoo.load_zoo_dataset(\n",
    "              \"open-images-v6\",\n",
    "              split=\"train\",\n",
    "              label_types=[\"detections\"],\n",
    "              classes=[\"Plastic bag\"],\n",
    "              max_samples=1000,\n",
    "          )\n"
   ]
  },
  {
   "cell_type": "code",
   "execution_count": 15,
   "id": "8ba6ab07-6b04-43f2-bbb3-66f9d0ba0e06",
   "metadata": {},
   "outputs": [
    {
     "name": "stdout",
     "output_type": "stream",
     "text": [
      "Downloading split 'validation' to '/Users/keshavsaraogi/fiftyone/open-images-v6/validation' if necessary\n",
      "Only found 9 (<1000) samples matching your requirements\n",
      "Necessary images already downloaded\n",
      "Existing download of split 'validation' is sufficient\n",
      "Loading existing dataset 'open-images-v6-validation-1000'. To reload from disk, either delete the existing dataset or provide a custom `dataset_name` to use\n",
      "Name:        open-images-v6-validation-1000\n",
      "Media type:  image\n",
      "Num samples: 9\n",
      "Persistent:  False\n",
      "Tags:        []\n",
      "Sample fields:\n",
      "    id:           fiftyone.core.fields.ObjectIdField\n",
      "    filepath:     fiftyone.core.fields.StringField\n",
      "    tags:         fiftyone.core.fields.ListField(fiftyone.core.fields.StringField)\n",
      "    metadata:     fiftyone.core.fields.EmbeddedDocumentField(fiftyone.core.metadata.ImageMetadata)\n",
      "    ground_truth: fiftyone.core.fields.EmbeddedDocumentField(fiftyone.core.labels.Detections)\n"
     ]
    }
   ],
   "source": [
    "dataset = fo.zoo.load_zoo_dataset(\n",
    "              \"open-images-v6\",\n",
    "              split=\"validation\",\n",
    "              label_types=[\"detections\"],\n",
    "              classes=[\"Plastic bag\"],\n",
    "              max_samples=1000,\n",
    "          )\n",
    "print(dataset)"
   ]
  },
  {
   "cell_type": "code",
   "execution_count": null,
   "id": "4926355c-e4db-4487-9d69-6ebb18d47de5",
   "metadata": {},
   "outputs": [],
   "source": []
  },
  {
   "cell_type": "code",
   "execution_count": null,
   "id": "9ccb5309-9bfd-48e0-9559-a5bc88f7aa14",
   "metadata": {},
   "outputs": [],
   "source": []
  }
 ],
 "metadata": {
  "kernelspec": {
   "display_name": "Python 3 (ipykernel)",
   "language": "python",
   "name": "python3"
  },
  "language_info": {
   "codemirror_mode": {
    "name": "ipython",
    "version": 3
   },
   "file_extension": ".py",
   "mimetype": "text/x-python",
   "name": "python",
   "nbconvert_exporter": "python",
   "pygments_lexer": "ipython3",
   "version": "3.11.7"
  }
 },
 "nbformat": 4,
 "nbformat_minor": 5
}
