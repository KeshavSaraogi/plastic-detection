{
 "cells": [
  {
   "cell_type": "code",
   "execution_count": null,
   "id": "008dd1e7-da1d-4425-87fd-57ce8c423535",
   "metadata": {},
   "outputs": [],
   "source": [
    "!pip install fiftyone"
   ]
  },
  {
   "cell_type": "code",
   "execution_count": null,
   "id": "f017b103-6501-4891-8d84-bff5e45ff6ba",
   "metadata": {},
   "outputs": [],
   "source": [
    "import fiftyone as fo\n",
    "dataset = fo.zoo.load_zoo_dataset(\n",
    "              \"open-images-v6\",\n",
    "              split=\"train\",\n",
    "              label_types=[\"detections\"],\n",
    "              classes=[\"Plastic bag\"],\n",
    "              max_samples=1000,\n",
    "          )\n"
   ]
  },
  {
   "cell_type": "code",
   "execution_count": null,
   "id": "8ba6ab07-6b04-43f2-bbb3-66f9d0ba0e06",
   "metadata": {},
   "outputs": [],
   "source": [
    "dataset = fo.zoo.load_zoo_dataset(\n",
    "              \"open-images-v6\",\n",
    "              split=\"validation\",\n",
    "              label_types=[\"detections\"],\n",
    "              classes=[\"Plastic bag\"],\n",
    "              max_samples=1000,\n",
    "          )\n",
    "print(dataset)"
   ]
  },
  {
   "cell_type": "code",
   "execution_count": null,
   "id": "4926355c-e4db-4487-9d69-6ebb18d47de5",
   "metadata": {},
   "outputs": [],
   "source": [
    "import zipfile\n",
    "\n",
    "zip_file_paths = ['validationImages.zip', 'trainImages.zip']\n",
    "\n",
    "for path in zip_file_paths:\n",
    "    name = str(path)\n",
    "    with zipfile.ZipFile(path, 'r') as zip_ref:\n",
    "        zip_ref.extractall(f'unzipped/{name.split}')\n"
   ]
  },
  {
   "cell_type": "code",
   "execution_count": null,
   "id": "302ca452-37d2-4ccc-b6fd-51d3aee38a4b",
   "metadata": {},
   "outputs": [],
   "source": [
    "import pandas as pd\n",
    "\n",
    "df_validation = pd.read_csv(\"unzipped/validationImages/labels/detections.csv\")\n",
    "df_validation.head()\n",
    "\n",
    "df_train = pd.read_csv(\"unzipped/trainImages/labels/detections.csv\")\n",
    "print(len(df_train))"
   ]
  },
  {
   "cell_type": "code",
   "execution_count": null,
   "id": "e633bc30-cb2e-446a-901e-208d38b8e500",
   "metadata": {},
   "outputs": [],
   "source": [
    "data_path_validation = \"unzipped/validationImages/data/*.jpg\"\n",
    "data_path_train      = \"unzipped/trainImages/data/*.jpg\""
   ]
  },
  {
   "cell_type": "code",
   "execution_count": null,
   "id": "164aaf0e-4fe2-41a8-a757-667af09d659e",
   "metadata": {},
   "outputs": [],
   "source": [
    "import glob\n",
    "\n",
    "counter = 0\n",
    "img_paths = data_path_train\n",
    "folder = glob.glob(img_paths)\n",
    "\n",
    "for i in folder:\n",
    "    counter += 1\n",
    "print(counter)"
   ]
  },
  {
   "cell_type": "code",
   "execution_count": null,
   "id": "eea46992-7be5-4110-9bfd-5afe65f6642d",
   "metadata": {},
   "outputs": [],
   "source": [
    "import glob\n",
    "\n",
    "counter = 0\n",
    "img_paths = data_path_validation\n",
    "folder = glob.glob(img_paths)\n",
    "\n",
    "for i in folder:\n",
    "    counter += 1\n",
    "print(counter)"
   ]
  },
  {
   "cell_type": "code",
   "execution_count": null,
   "id": "8bd33a93-1ade-482d-876b-fbd33550d8ed",
   "metadata": {},
   "outputs": [],
   "source": [
    "# GET Image IDs\n",
    "import glob\n",
    "\n",
    "train_list_ids = []\n",
    "validation_list_ids = []\n",
    "\n",
    "def get_ids(split, print_this, to_append_list):\n",
    "    start = 0\n",
    "    end = 0\n",
    "\n",
    "    if split == data_path_train:\n",
    "        start,end = 26,42\n",
    "    elif split == data_path_validation:\n",
    "        start, end = 31, 47\n",
    "    else:\n",
    "        raise Exception(\"Invalid Parameter\")\n",
    "    \n",
    "    folder = split\n",
    "    img_paths = glob.glob(folder)\n",
    "    img_ids = to_append_list\n",
    "\n",
    "    for i in img_paths:\n",
    "        id = i[start:end]\n",
    "        img_ids.append(id)\n",
    "\n",
    "    print(len(img_ids))\n",
    "    print(print_this)\n",
    "\n",
    "\n",
    "#get_ids(data_path_train, \"Hello World\", train_list_ids)\n",
    "#get_ids(data_path_validation, \"Hello World\", train_list_ids)\n"
   ]
  }
 ],
 "metadata": {
  "kernelspec": {
   "display_name": "Python 3 (ipykernel)",
   "language": "python",
   "name": "python3"
  },
  "language_info": {
   "codemirror_mode": {
    "name": "ipython",
    "version": 3
   },
   "file_extension": ".py",
   "mimetype": "text/x-python",
   "name": "python",
   "nbconvert_exporter": "python",
   "pygments_lexer": "ipython3",
   "version": "3.11.7"
  }
 },
 "nbformat": 4,
 "nbformat_minor": 5
}
