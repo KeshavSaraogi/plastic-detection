{
 "cells": [
  {
   "cell_type": "code",
   "execution_count": null,
   "id": "01165f9c-3a0a-4141-b23e-238071a035be",
   "metadata": {},
   "outputs": [],
   "source": [
    "from datetime import datetime\n",
    "date_today = datetime.today().strftime('%Y-%m-%d')\n",
    "\n",
    "year  = date_today[0:4]\n",
    "month = date_today[5:7]\n",
    "day   = date_today[8:10]\n",
    "\n",
    "print(date_today)"
   ]
  }
 ],
 "metadata": {
  "kernelspec": {
   "display_name": "Python 3 (ipykernel)",
   "language": "python",
   "name": "python3"
  },
  "language_info": {
   "codemirror_mode": {
    "name": "ipython",
    "version": 3
   },
   "file_extension": ".py",
   "mimetype": "text/x-python",
   "name": "python",
   "nbconvert_exporter": "python",
   "pygments_lexer": "ipython3",
   "version": "3.11.7"
  }
 },
 "nbformat": 4,
 "nbformat_minor": 5
}
