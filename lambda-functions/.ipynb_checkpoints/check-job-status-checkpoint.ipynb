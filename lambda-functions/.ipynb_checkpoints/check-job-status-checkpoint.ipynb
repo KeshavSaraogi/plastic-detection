{
 "cells": [
  {
   "cell_type": "code",
   "execution_count": null,
   "id": "b39dbd8b-4e84-49a4-80a3-ecfb55fb9518",
   "metadata": {},
   "outputs": [],
   "source": [
    "import json\n",
    "import boto3\n",
    "from datetime import datetime\n",
    "\n",
    "client     = boto3.client('sagemaker') \n",
    "date_today = datetime.today().strftime('%Y-%m-%d')\n",
    "\n",
    "year  =  date_today[0:4]\n",
    "month =  date_today[5:7]\n",
    "day   =  date_today[8:10]\n",
    "\n",
    "# the job returned would be one from [Failed, Completed, InProgress]\n",
    "def lambda_handler(event, context):\n",
    "    try:\n",
    "       name       = f'{year}-{month}-{day}-object-detection-unique'\n",
    "       response   = client.describe_transform_job(TransformJobName = name)\n",
    "       jobStatus  = response['TransformJobStatus']\n",
    "       return jobStatus \n",
    "       \n",
    "    except Exception as e:\n",
    "        print(e)\n",
    "        message = 'Error getting Batch Job status'\n",
    "        print(message)\n",
    "        raise Exception(message)"
   ]
  }
 ],
 "metadata": {
  "kernelspec": {
   "display_name": "Python 3 (ipykernel)",
   "language": "python",
   "name": "python3"
  },
  "language_info": {
   "codemirror_mode": {
    "name": "ipython",
    "version": 3
   },
   "file_extension": ".py",
   "mimetype": "text/x-python",
   "name": "python",
   "nbconvert_exporter": "python",
   "pygments_lexer": "ipython3",
   "version": "3.11.7"
  }
 },
 "nbformat": 4,
 "nbformat_minor": 5
}
